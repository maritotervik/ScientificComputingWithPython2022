{
 "cells": [
  {
   "cell_type": "markdown",
   "metadata": {},
   "source": [
    "## Exercise 8 - Algebra"
   ]
  },
  {
   "cell_type": "markdown",
   "metadata": {},
   "source": [
    "Marit Svendby Otervik"
   ]
  },
  {
   "cell_type": "code",
   "execution_count": 2,
   "metadata": {},
   "outputs": [],
   "source": [
    "import numpy as np\n",
    "import numpy.random as npr\n",
    "from scipy import linalg as la\n",
    "import matplotlib.pyplot as plt"
   ]
  },
  {
   "cell_type": "markdown",
   "metadata": {},
   "source": [
    "### 1. PCA on 3D dataset"
   ]
  },
  {
   "cell_type": "code",
   "execution_count": 3,
   "metadata": {},
   "outputs": [
    {
     "name": "stdout",
     "output_type": "stream",
     "text": [
      "[[-0.84026734 -0.73908497  0.83403235 ... -2.08359934 -0.60618635\n",
      "  -1.83526414]\n",
      " [-2.21666928 -4.22485042 -0.2240384  ... -2.12150341  0.82056285\n",
      "  -1.75161941]\n",
      " [-3.89720395 -5.70302037  1.4440263  ... -6.28870209 -0.39180984\n",
      "  -5.42214769]]\n"
     ]
    }
   ],
   "source": [
    "N = 1000\n",
    "\n",
    "x1 = npr.normal(loc=0,scale=1,size=N)\n",
    "x2 = x1 + npr.normal(loc=0,scale=3,size=N)\n",
    "x3 = 2*x1 + x2\n",
    "\n",
    "#Creating a Nx3 matrix from the array\n",
    "x = np.vstack([x1,x2,x3])\n",
    "print(x)"
   ]
  },
  {
   "cell_type": "markdown",
   "metadata": {},
   "source": [
    "##### PCA with eigendecomposition"
   ]
  },
  {
   "cell_type": "code",
   "execution_count": 4,
   "metadata": {},
   "outputs": [
    {
     "name": "stdout",
     "output_type": "stream",
     "text": [
      "Covariance matrix:\n",
      " [[ 0.99428379  0.9591741   2.94774169]\n",
      " [ 0.9591741  10.17044141 12.08878961]\n",
      " [ 2.94774169 12.08878961 17.98427299]] \n",
      "\n",
      "Eigenvalues:\n",
      " [2.71149251e+01 1.24927422e-15 2.03407313e+00] \n",
      "\n",
      "Eigenvectors:\n",
      " [[-0.11229246 -0.81649658  0.56632476]\n",
      " [-0.58131089 -0.40824829 -0.70385438]\n",
      " [-0.80589581  0.40824829  0.42879515]] \n",
      "\n"
     ]
    }
   ],
   "source": [
    "#Computing the covariance matrix\n",
    "cov = np.cov(x)\n",
    "print(\"Covariance matrix:\\n\",cov,\"\\n\")\n",
    "\n",
    "#Eigenvectors and calues of the covariance matrix\n",
    "l, V = la.eig(cov)\n",
    "l = np.real_if_close(l)\n",
    "\n",
    "print(\"Eigenvalues:\\n\", l, '\\n')\n",
    "print(\"Eigenvectors:\\n\", V, '\\n')"
   ]
  },
  {
   "cell_type": "markdown",
   "metadata": {},
   "source": [
    "##### PCA with SVD"
   ]
  },
  {
   "cell_type": "code",
   "execution_count": 5,
   "metadata": {},
   "outputs": [
    {
     "name": "stdout",
     "output_type": "stream",
     "text": [
      "Eigenvalues:\n",
      " [2.71788870e+01 2.04352959e+00 6.92038114e-30] \n",
      "\n",
      "Eigenvectors:\n",
      " [[-0.11284713  0.5662145  -0.81649658]\n",
      " [-0.58062118 -0.70442344 -0.40824829]\n",
      " [-0.80631543  0.42800556  0.40824829]] \n",
      "\n"
     ]
    }
   ],
   "source": [
    "#SVD on the dataset\n",
    "U, S, Vt = np.linalg.svd(x)\n",
    "#Rescaling S to get the eigenvalues:\n",
    "l_svd = S**2/(N-1)\n",
    "#Eigenvectors\n",
    "V_svd = U\n",
    "\n",
    "print(\"Eigenvalues:\\n\", l_svd, '\\n')\n",
    "print(\"Eigenvectors:\\n\", V_svd, '\\n')"
   ]
  },
  {
   "cell_type": "code",
   "execution_count": 6,
   "metadata": {},
   "outputs": [
    {
     "name": "stdout",
     "output_type": "stream",
     "text": [
      "Eigendecomposition:\n",
      " [2.71149251e+01 1.24927422e-15 2.03407313e+00]\n",
      "SVD:\n",
      " [2.71788870e+01 2.04352959e+00 6.92038114e-30]\n"
     ]
    }
   ],
   "source": [
    "# Compare Eigenvalues\n",
    "print(\"Eigendecomposition:\\n\", l)\n",
    "print(\"SVD:\\n\", l_svd)"
   ]
  },
  {
   "cell_type": "markdown",
   "metadata": {},
   "source": [
    "The high eigenvalues are similar, but the small ones are not (but they are both really small)"
   ]
  },
  {
   "cell_type": "code",
   "execution_count": 7,
   "metadata": {},
   "outputs": [
    {
     "name": "stdout",
     "output_type": "stream",
     "text": [
      "Eigendecomposition:\n",
      " [[-0.11229246 -0.81649658  0.56632476]\n",
      " [-0.58131089 -0.40824829 -0.70385438]\n",
      " [-0.80589581  0.40824829  0.42879515]]\n",
      "SVD:\n",
      " [[-0.11284713  0.5662145  -0.81649658]\n",
      " [-0.58062118 -0.70442344 -0.40824829]\n",
      " [-0.80631543  0.42800556  0.40824829]]\n"
     ]
    }
   ],
   "source": [
    "# Compare Eigenvectors\n",
    "print(\"Eigendecomposition:\\n\", V)\n",
    "print(\"SVD:\\n\", V_svd)"
   ]
  },
  {
   "cell_type": "markdown",
   "metadata": {},
   "source": [
    "The eigenvectors are similar with precision ~ 10^(-6)"
   ]
  },
  {
   "cell_type": "markdown",
   "metadata": {},
   "source": [
    "##### Computing variability of each principal component"
   ]
  },
  {
   "cell_type": "code",
   "execution_count": 8,
   "metadata": {},
   "outputs": [
    {
     "name": "stdout",
     "output_type": "stream",
     "text": [
      "PC 0 : 93.0% of the total variability\n",
      "PC 1 : 7.0% of the total variability\n",
      "PC 2 : 0.0% of the total variability\n"
     ]
    }
   ],
   "source": [
    "Lambda = np.diag(l_svd)\n",
    "for i in range(3):\n",
    "    print(\"PC %.0f : %2.1f%% of the total variability\" % (i, Lambda[i,i]/Lambda.trace()*100))"
   ]
  },
  {
   "cell_type": "markdown",
   "metadata": {},
   "source": [
    "We can see that the majority of the datataset's total variability are from the first principal component, and that the two first principal components make close to 100% of the variability (not exactly 100%, but the eigenvalue of PC3 is very small). This makes sense because x1 is a  random normal distribution, while x2 is the sum of x1 and a random normal distribution. Further, x3 is a linear combination of 2x1 and x2. Hence, x1 is a part of the other two variables, and the variability from creating x1 will dominate the total variability in the dataset.\n",
    "\n",
    "By selecting only the first two components (trducing the dimensionality), more than 99% of the total variability will be retained.\n"
   ]
  },
  {
   "cell_type": "code",
   "execution_count": 9,
   "metadata": {},
   "outputs": [],
   "source": [
    "#Redifine data according to the new basis\n",
    "xp = np.dot(V_svd.T, x)"
   ]
  },
  {
   "cell_type": "code",
   "execution_count": 10,
   "metadata": {},
   "outputs": [
    {
     "data": {
      "image/png": "[encoded data removed]",
      "text/plain": [
       "<Figure size 864x864 with 6 Axes>"
      ]
     },
     "metadata": {
      "needs_background": "light"
     },
     "output_type": "display_data"
    }
   ],
   "source": [
    "fig, axes = plt.subplots(nrows=3,ncols=2,figsize=(12,12))\n",
    "ax00,ax01,ax10,ax11,ax20,ax21 = axes.flatten()\n",
    "plt.setp(axes, xlim=(-15,15), ylim=(-15,15))\n",
    "#ax00.xaxis.set_ticks(np.arange(0, 57, 8))\n",
    "\n",
    "ax00.scatter(x[0,:], x[1,:])\n",
    "ax00.set_xlabel('feature 1', fontsize=12)\n",
    "ax00.set_ylabel('feature 2', fontsize=12)\n",
    "ax00.set_title('Original data',fontsize=15)\n",
    "\n",
    "ax10.scatter(x[0,:], x[2,:])\n",
    "ax10.set_xlabel('feature 1', fontsize=12)\n",
    "ax10.set_ylabel('feature 3', fontsize=12)\n",
    "\n",
    "ax20.scatter(x[1,:], x[2,:])\n",
    "ax20.set_xlabel('feature 2', fontsize=12)\n",
    "ax20.set_ylabel('feature 3', fontsize=12)\n",
    "\n",
    "ax01.scatter(xp[0,:], xp[1,:])\n",
    "ax01.set_xlabel('feature 1', fontsize=12)\n",
    "ax01.set_ylabel('feature 2', fontsize=12)\n",
    "ax01.set_title('New basis',fontsize=16)\n",
    "\n",
    "ax11.scatter(xp[0,:], xp[2,:])\n",
    "ax11.set_xlabel('feature 1', fontsize=12)\n",
    "ax11.set_ylabel('feature 3', fontsize=12)\n",
    "\n",
    "ax21.scatter(xp[1,:], xp[2,:])\n",
    "ax21.set_xlabel('feature 2', fontsize=12)\n",
    "ax21.set_ylabel('feature 3', fontsize=12)\n",
    "\n",
    "plt.show()"
   ]
  },
  {
   "cell_type": "markdown",
   "metadata": {},
   "source": [
    "When plotting in the new basis, we can clearly see the same as we calculated earlier; feature 1 is responsible for the majority of the variability, while feature 3 has close to none. Hence, feature 3 could be removed, and still at least 99% of the total variability is retained. "
   ]
  },
  {
   "cell_type": "markdown",
   "metadata": {},
   "source": [
    "### 2. PCA on a nD dataset"
   ]
  },
  {
   "cell_type": "code",
   "execution_count": 11,
   "metadata": {},
   "outputs": [],
   "source": [
    "#creating random noise (10 uncorrelated variables normally dist.)\n",
    "noise1 = npr.normal(loc=0,scale=1/20,size=N)\n",
    "noise2 = npr.normal(loc=0,scale=2/20,size=N)\n",
    "noise3 = npr.normal(loc=0,scale=3/20,size=N)\n",
    "noise4 = npr.normal(loc=0,scale=1/20,size=N)\n",
    "noise5 = npr.normal(loc=0,scale=2/20,size=N)\n",
    "noise6 = npr.normal(loc=0,scale=3/20,size=N)\n",
    "noise7 = npr.normal(loc=0,scale=1/20,size=N)\n",
    "noise8 = npr.normal(loc=0,scale=2/20,size=N)\n",
    "noise9 = npr.normal(loc=0,scale=3/20,size=N)\n",
    "noise10 = npr.normal(loc=0,scale=1/20,size=N)\n",
    "\n",
    "x_nD = np.vstack([x1,x2,x3,noise1,noise2,noise3,noise4,noise5,noise6,noise7,noise8,noise9,noise10])"
   ]
  },
  {
   "cell_type": "markdown",
   "metadata": {},
   "source": [
    "##### PCA with eigendecomposition"
   ]
  },
  {
   "cell_type": "code",
   "execution_count": 12,
   "metadata": {},
   "outputs": [
    {
     "name": "stdout",
     "output_type": "stream",
     "text": [
      "Eigenvalues:\n",
      " [2.71150380e+01 2.03411322e+00 2.44143750e-02 2.18061432e-02\n",
      " 2.12270055e-02 3.08103147e-15 1.04327042e-02 9.96304283e-03\n",
      " 9.36762385e-03 2.41681812e-03 2.46605126e-03 2.74064952e-03\n",
      " 2.65920068e-03] \n",
      "\n"
     ]
    }
   ],
   "source": [
    "#Computing the covariance matrix\n",
    "cov_nD = np.cov(x_nD)\n",
    "\n",
    "#Eigenvectors and calues of the covariance matrix\n",
    "l_nD, V_nD = la.eig(cov_nD)\n",
    "l_nD = np.real_if_close(l_nD)\n",
    "\n",
    "print(\"Eigenvalues:\\n\", l_nD, '\\n')\n",
    "#print(\"Eigenvectors:\\n\", V_nD, '\\n')"
   ]
  },
  {
   "cell_type": "markdown",
   "metadata": {},
   "source": [
    "As expected, we get 13 eiegnvalues: x1, x2, x3 + 10 noise-variables"
   ]
  },
  {
   "cell_type": "markdown",
   "metadata": {},
   "source": [
    "##### PCA with SVD"
   ]
  },
  {
   "cell_type": "code",
   "execution_count": 13,
   "metadata": {},
   "outputs": [
    {
     "name": "stdout",
     "output_type": "stream",
     "text": [
      "Eigenvalues:\n",
      " [2.71789958e+01 2.04357208e+00 2.44145063e-02 2.18948716e-02\n",
      " 2.12330015e-02 1.04333311e-02 9.98581143e-03 9.36864037e-03\n",
      " 2.74085068e-03 2.65920756e-03 2.47804055e-03 2.41688808e-03\n",
      " 6.78715152e-30] \n",
      "\n"
     ]
    }
   ],
   "source": [
    "#SVD on the dataset\n",
    "U_nD, S_nD, Vt = np.linalg.svd(x_nD)\n",
    "#Rescaling S to get the eigenvalues:\n",
    "l_svd_nD = S_nD**2/(N-1)\n",
    "#Eigenvectors\n",
    "V_svd_nD = U_nD\n",
    "\n",
    "print(\"Eigenvalues:\\n\", l_svd_nD, '\\n')\n",
    "#print(\"Eigenvectors:\\n\", V_svd_noise, '\\n')"
   ]
  },
  {
   "cell_type": "code",
   "execution_count": 14,
   "metadata": {},
   "outputs": [
    {
     "name": "stdout",
     "output_type": "stream",
     "text": [
      "Eigendecomposition:\n",
      " [2.71150380e+01 2.03411322e+00 2.44143750e-02 2.18061432e-02\n",
      " 2.12270055e-02 3.08103147e-15 1.04327042e-02 9.96304283e-03\n",
      " 9.36762385e-03 2.41681812e-03 2.46605126e-03 2.74064952e-03\n",
      " 2.65920068e-03]\n",
      "\n",
      "SVD:\n",
      " [2.71789958e+01 2.04357208e+00 2.44145063e-02 2.18948716e-02\n",
      " 2.12330015e-02 1.04333311e-02 9.98581143e-03 9.36864037e-03\n",
      " 2.74085068e-03 2.65920756e-03 2.47804055e-03 2.41688808e-03\n",
      " 6.78715152e-30]\n"
     ]
    }
   ],
   "source": [
    "# Compare Eigenvalues\n",
    "print(\"Eigendecomposition:\\n\", l_nD)\n",
    "print(\"\\nSVD:\\n\", l_svd_nD)"
   ]
  },
  {
   "cell_type": "markdown",
   "metadata": {},
   "source": [
    "##### Computing variability of each principal component"
   ]
  },
  {
   "cell_type": "code",
   "execution_count": 15,
   "metadata": {},
   "outputs": [
    {
     "name": "stdout",
     "output_type": "stream",
     "text": [
      "PC 0 : 92.66559% of the total variability\n",
      "PC 1 : 6.96747% of the total variability\n",
      "PC 2 : 0.08324% of the total variability\n",
      "PC 3 : 0.07465% of the total variability\n",
      "PC 4 : 0.07239% of the total variability\n",
      "PC 5 : 0.03557% of the total variability\n",
      "PC 6 : 0.03405% of the total variability\n",
      "PC 7 : 0.03194% of the total variability\n",
      "PC 8 : 0.00934% of the total variability\n",
      "PC 9 : 0.00907% of the total variability\n",
      "PC 10 : 0.00845% of the total variability\n",
      "PC 11 : 0.00824% of the total variability\n",
      "PC 12 : 0.00000% of the total variability\n"
     ]
    }
   ],
   "source": [
    "Lambda_nD = np.diag(l_svd_nD)\n",
    "for i in range(13):\n",
    "    print(\"PC %.0f : %2.5f%% of the total variability\" % (i, Lambda_nD[i,i]/Lambda_nD.trace()*100))"
   ]
  },
  {
   "cell_type": "markdown",
   "metadata": {},
   "source": [
    "We can see that the standard deviation of the generated random noise is of such a small factor that they don't contribute much to the total variability of the system. Hence, we get a very similar result to those obtained earlier (PC 0: 93%, PC 1: 7%)"
   ]
  }
 ],
 "metadata": {
  "kernelspec": {
   "display_name": "Python 3",
   "language": "python",
   "name": "python3"
  },
  "language_info": {
   "codemirror_mode": {
    "name": "ipython",
    "version": 3
   },
   "file_extension": ".py",
   "mimetype": "text/x-python",
   "name": "python",
   "nbconvert_exporter": "python",
   "pygments_lexer": "ipython3",
   "version": "3.8.3"
  }
 },
 "nbformat": 4,
 "nbformat_minor": 4
}
